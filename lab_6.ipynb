{
 "cells": [
  {
   "cell_type": "code",
   "execution_count": 1,
   "id": "feb44c81",
   "metadata": {},
   "outputs": [],
   "source": [
    "import pandas as pd\n",
    "import numpy as np"
   ]
  },
  {
   "cell_type": "code",
   "execution_count": 2,
   "id": "b32677c4",
   "metadata": {},
   "outputs": [
    {
     "data": {
      "text/html": [
       "<div>\n",
       "<style scoped>\n",
       "    .dataframe tbody tr th:only-of-type {\n",
       "        vertical-align: middle;\n",
       "    }\n",
       "\n",
       "    .dataframe tbody tr th {\n",
       "        vertical-align: top;\n",
       "    }\n",
       "\n",
       "    .dataframe thead th {\n",
       "        text-align: right;\n",
       "    }\n",
       "</style>\n",
       "<table border=\"1\" class=\"dataframe\">\n",
       "  <thead>\n",
       "    <tr style=\"text-align: right;\">\n",
       "      <th></th>\n",
       "      <th>book_id</th>\n",
       "      <th>user_id</th>\n",
       "      <th>rating</th>\n",
       "    </tr>\n",
       "  </thead>\n",
       "  <tbody>\n",
       "    <tr>\n",
       "      <th>0</th>\n",
       "      <td>1</td>\n",
       "      <td>314</td>\n",
       "      <td>5</td>\n",
       "    </tr>\n",
       "    <tr>\n",
       "      <th>1</th>\n",
       "      <td>1</td>\n",
       "      <td>439</td>\n",
       "      <td>3</td>\n",
       "    </tr>\n",
       "    <tr>\n",
       "      <th>2</th>\n",
       "      <td>1</td>\n",
       "      <td>588</td>\n",
       "      <td>5</td>\n",
       "    </tr>\n",
       "    <tr>\n",
       "      <th>3</th>\n",
       "      <td>1</td>\n",
       "      <td>1169</td>\n",
       "      <td>4</td>\n",
       "    </tr>\n",
       "    <tr>\n",
       "      <th>4</th>\n",
       "      <td>1</td>\n",
       "      <td>1185</td>\n",
       "      <td>4</td>\n",
       "    </tr>\n",
       "  </tbody>\n",
       "</table>\n",
       "</div>"
      ],
      "text/plain": [
       "   book_id  user_id  rating\n",
       "0        1      314       5\n",
       "1        1      439       3\n",
       "2        1      588       5\n",
       "3        1     1169       4\n",
       "4        1     1185       4"
      ]
     },
     "execution_count": 2,
     "metadata": {},
     "output_type": "execute_result"
    }
   ],
   "source": [
    "df = pd.read_csv('ratings.csv')\n",
    "df.head()"
   ]
  },
  {
   "cell_type": "code",
   "execution_count": 4,
   "id": "f4513729",
   "metadata": {},
   "outputs": [
    {
     "data": {
      "text/plain": [
       "array([[7.1070e+03, 3.8650e+03, 4.0000e+00],\n",
       "       [7.1070e+03, 4.4590e+03, 3.0000e+00],\n",
       "       [7.1070e+03, 4.5410e+03, 4.0000e+00],\n",
       "       ...,\n",
       "       [1.0000e+04, 4.9383e+04, 5.0000e+00],\n",
       "       [1.0000e+04, 5.0124e+04, 5.0000e+00],\n",
       "       [1.0000e+04, 5.1328e+04, 1.0000e+00]])"
      ]
     },
     "execution_count": 4,
     "metadata": {},
     "output_type": "execute_result"
    }
   ],
   "source": [
    "array = np.loadtxt('ratings.csv',delimiter=',',skiprows = 706320, max_rows = 745559)\n",
    "array"
   ]
  },
  {
   "cell_type": "code",
   "execution_count": 6,
   "id": "17b9fe45",
   "metadata": {},
   "outputs": [
    {
     "data": {
      "text/plain": [
       "(275437, 3)"
      ]
     },
     "execution_count": 6,
     "metadata": {},
     "output_type": "execute_result"
    }
   ],
   "source": [
    "array.shape"
   ]
  },
  {
   "cell_type": "code",
   "execution_count": 10,
   "id": "7b5ee179",
   "metadata": {},
   "outputs": [
    {
     "data": {
      "text/plain": [
       "array([[       nan,        nan, 4.0000e+00],\n",
       "       [7.1070e+03, 4.4590e+03, 3.0000e+00],\n",
       "       [       nan, 4.5410e+03, 4.0000e+00],\n",
       "       ...,\n",
       "       [       nan, 4.9383e+04, 5.0000e+00],\n",
       "       [       nan, 5.0124e+04,        nan],\n",
       "       [       nan,        nan, 1.0000e+00]])"
      ]
     },
     "execution_count": 10,
     "metadata": {},
     "output_type": "execute_result"
    }
   ],
   "source": [
    "array.ravel()[np.random.choice(array.size, 190051, replace=False)] = np.nan\n",
    "array"
   ]
  },
  {
   "cell_type": "code",
   "execution_count": 12,
   "id": "be837c00",
   "metadata": {},
   "outputs": [
    {
     "data": {
      "text/plain": [
       "True"
      ]
     },
     "execution_count": 12,
     "metadata": {},
     "output_type": "execute_result"
    }
   ],
   "source": [
    "np.isnan(np.sum(array))"
   ]
  },
  {
   "cell_type": "code",
   "execution_count": 13,
   "id": "4ce2d961",
   "metadata": {},
   "outputs": [
    {
     "data": {
      "text/plain": [
       "(275437, 3)"
      ]
     },
     "execution_count": 13,
     "metadata": {},
     "output_type": "execute_result"
    }
   ],
   "source": [
    "array.shape"
   ]
  },
  {
   "cell_type": "code",
   "execution_count": 14,
   "id": "8dcdbfc7",
   "metadata": {},
   "outputs": [],
   "source": [
    "from sklearn.impute import SimpleImputer"
   ]
  },
  {
   "cell_type": "code",
   "execution_count": 16,
   "id": "b306b705",
   "metadata": {},
   "outputs": [],
   "source": [
    "imp_con = SimpleImputer(missing_values=np.nan, strategy='constant', fill_value=10)"
   ]
  },
  {
   "cell_type": "code",
   "execution_count": 22,
   "id": "49661110",
   "metadata": {},
   "outputs": [
    {
     "name": "stdout",
     "output_type": "stream",
     "text": [
      "[[1.000e+00 3.140e+02 5.000e+00]\n",
      " [1.000e+00 4.390e+02 3.000e+00]\n",
      " [1.000e+00 5.880e+02 5.000e+00]\n",
      " ...\n",
      " [7.107e+03 3.598e+03 4.000e+00]\n",
      " [7.107e+03 3.801e+03 3.000e+00]\n",
      " [7.107e+03 3.865e+03 4.000e+00]]\n",
      "[[0.0000e+00 0.0000e+00 4.0000e+00]\n",
      " [7.1070e+03 4.4590e+03 3.0000e+00]\n",
      " [0.0000e+00 4.5410e+03 4.0000e+00]\n",
      " ...\n",
      " [0.0000e+00 4.9383e+04 5.0000e+00]\n",
      " [0.0000e+00 5.0124e+04 0.0000e+00]\n",
      " [0.0000e+00 0.0000e+00 1.0000e+00]]\n"
     ]
    }
   ],
   "source": [
    "train = np.loadtxt('ratings.csv',delimiter=',', skiprows = 1, max_rows = 706320)\n",
    "si1 = SimpleImputer(strategy='constant',fill_value=0)\n",
    "train_imputed = si1.fit_transform(train)\n",
    "test_imputed = si1.fit_transform(array)\n",
    "print(train_imputed)\n",
    "print(test_imputed)"
   ]
  },
  {
   "cell_type": "code",
   "execution_count": null,
   "id": "50a92ab6",
   "metadata": {},
   "outputs": [],
   "source": []
  }
 ],
 "metadata": {
  "kernelspec": {
   "display_name": "Python 3",
   "language": "python",
   "name": "python3"
  },
  "language_info": {
   "codemirror_mode": {
    "name": "ipython",
    "version": 3
   },
   "file_extension": ".py",
   "mimetype": "text/x-python",
   "name": "python",
   "nbconvert_exporter": "python",
   "pygments_lexer": "ipython3",
   "version": "3.6.10"
  }
 },
 "nbformat": 4,
 "nbformat_minor": 5
}
